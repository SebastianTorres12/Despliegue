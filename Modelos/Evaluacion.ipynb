{
 "cells": [
  {
   "cell_type": "code",
   "execution_count": 1,
   "id": "5b74bfc3-b1d7-49fd-911a-e43d0adf8553",
   "metadata": {},
   "outputs": [],
   "source": [
    "import pandas as pd\n",
    "import numpy as np\n",
    "import matplotlib.pyplot as plt\n",
    "import seaborn as sns\n",
    "from sklearn.cluster import KMeans \n",
    "from sklearn.decomposition import PCA\n",
    "from sklearn.preprocessing import LabelEncoder\n"
   ]
  },
  {
   "cell_type": "code",
   "execution_count": null,
   "id": "c7ff872e-59e6-44ee-9f22-6b7f3e9b5a6e",
   "metadata": {},
   "outputs": [],
   "source": [
    "# Asegúrate de cargar el archivo 'caracteristicas_vinos.csv' en tu entorno de Google Colab\n",
    "df = pd.read_csv('data_evaluacion.csv', header=None)\n",
    "df.head()\n"
   ]
  },
  {
   "cell_type": "code",
   "execution_count": null,
   "id": "f0ae577c-6c30-45c1-8ca4-699c75677e36",
   "metadata": {},
   "outputs": [],
   "source": [
    "# Nuevas etiquetas para las columnas\n",
    "nuevas_columnas = ['edad', 'clase_trabajo', 'fnlwgt', 'educacion', 'educacion_num', 'estado_civil','ocupacion', 'relacion', \n",
    "                   'raza', 'genero', 'ganancia-capital', 'perdida-capital', 'horas_semana', 'pais', 'salario']\n",
    "\n",
    "# Asignar nuevas etiquetas\n",
    "df.columns = nuevas_columnas\n",
    "# Restablece el índice\n",
    "df.reset_index(drop=True, inplace=True)\n"
   ]
  },
  {
   "cell_type": "code",
   "execution_count": null,
   "id": "a436dcca",
   "metadata": {},
   "outputs": [],
   "source": [
    "# Reemplazar los valores '?' por '0'\n",
    "df.replace('?', 0, inplace=True)"
   ]
  },
  {
   "cell_type": "code",
   "execution_count": null,
   "id": "0e6fba3c-1e34-452c-82e2-1840d65784ce",
   "metadata": {},
   "outputs": [],
   "source": [
    "df.head()"
   ]
  },
  {
   "cell_type": "code",
   "execution_count": null,
   "id": "4e97f061-5e41-41b0-86c1-e127bd76b07b",
   "metadata": {},
   "outputs": [],
   "source": [
    "df.info()"
   ]
  },
  {
   "cell_type": "code",
   "execution_count": null,
   "id": "9742cbdd",
   "metadata": {},
   "outputs": [],
   "source": [
    "# Elimina los espacios en blanco de los valores en la columna 'salary'\n",
    "df['salario'] = df['salario'].str.strip()\n",
    "salary_map = {'<=50K': 1, '>50K': 0}\n",
    "df['salario'] = df['salario'].map(salary_map)\n"
   ]
  },
  {
   "cell_type": "code",
   "execution_count": null,
   "id": "877aba09",
   "metadata": {},
   "outputs": [],
   "source": [
    "df.head(10)"
   ]
  },
  {
   "cell_type": "code",
   "execution_count": null,
   "id": "ed5625c8-50e7-4fe7-8adc-b3f269f50eb1",
   "metadata": {},
   "outputs": [],
   "source": [
    "# Elimina los espacios en blanco de los valores en la columna 'salary'\n",
    "df['genero'] = df['genero'].str.strip()\n",
    "# Mapea los valores\n",
    "df['genero'] = df['genero'].map({'Male': 1, 'Female': 0})\n",
    "print(df.head())"
   ]
  },
  {
   "cell_type": "code",
   "execution_count": null,
   "id": "11387d2f-02fd-4649-9235-689041b05286",
   "metadata": {},
   "outputs": [],
   "source": [
    "df.head(10)"
   ]
  },
  {
   "cell_type": "code",
   "execution_count": null,
   "id": "4d4873ad",
   "metadata": {},
   "outputs": [],
   "source": [
    "# Contar los registros de cada valor en la columna 'country'\n",
    "country_counts = df['pais'].value_counts()\n",
    "print(country_counts)\n"
   ]
  },
  {
   "cell_type": "code",
   "execution_count": null,
   "id": "53b34ed3",
   "metadata": {},
   "outputs": [],
   "source": [
    "# Elimina los espacios en blanco de los valores en la columna 'salary'\n",
    "df['pais'] = df['pais'].str.strip()\n",
    "data = [df]\n",
    "for dataset in data:\n",
    "    dataset.loc[dataset['pais'] != 'United-States', 'pais'] = 'Non-US'\n",
    "    dataset.loc[dataset['pais'] == 'United-States', 'pais'] = 'US'\n",
    "\n",
    "df.head(10)\n"
   ]
  },
  {
   "cell_type": "code",
   "execution_count": null,
   "id": "8d16361a",
   "metadata": {},
   "outputs": [],
   "source": [
    "df['pais'] = df['pais'].map({'US':1,'Non-US':0}).astype(int)\n",
    "df.head(10)\n"
   ]
  },
  {
   "cell_type": "code",
   "execution_count": null,
   "id": "f5da5867",
   "metadata": {},
   "outputs": [],
   "source": [
    "#Remplazamos estados civiles a Single y Couple\n",
    "df['estado_civil'] = df['estado_civil'].str.strip()\n",
    "df['estado_civil'] = df['estado_civil'].replace(['Divorced','Married-spouse-absent','Never-married','Separated','Widowed'],'Single')\n",
    "df['estado_civil'] = df['estado_civil'].replace(['Married-AF-spouse','Married-civ-spouse'],'Couple')\n",
    "df.head(10)\n"
   ]
  },
  {
   "cell_type": "code",
   "execution_count": null,
   "id": "71f0a29c",
   "metadata": {},
   "outputs": [],
   "source": [
    "df['estado_civil'] = df['estado_civil'].map({'Couple':0,'Single':1}) \n",
    "df.head(10)"
   ]
  },
  {
   "cell_type": "code",
   "execution_count": null,
   "id": "da7021b0",
   "metadata": {},
   "outputs": [],
   "source": [
    "label_encoder = LabelEncoder()\n",
    "df['relacion'] = label_encoder.fit_transform(df['relacion'])\n",
    "df.head(10)"
   ]
  },
  {
   "cell_type": "code",
   "execution_count": null,
   "id": "4fda8f40",
   "metadata": {},
   "outputs": [],
   "source": [
    "# Obtener las categorías originales\n",
    "categories = label_encoder.classes_\n",
    "\n",
    "# Crear un DataFrame para mostrar el mapeo\n",
    "mapping_df = pd.DataFrame({\n",
    "    'Categoría': categories,\n",
    "    'Código': range(len(categories))\n",
    "})\n",
    "\n",
    "print(mapping_df)"
   ]
  },
  {
   "cell_type": "code",
   "execution_count": null,
   "id": "77d4f31e",
   "metadata": {},
   "outputs": [],
   "source": [
    "label_encoder = LabelEncoder()\n",
    "df['raza'] = label_encoder.fit_transform(df['raza'])\n",
    "df.head(10)"
   ]
  },
  {
   "cell_type": "code",
   "execution_count": null,
   "id": "51142b01",
   "metadata": {},
   "outputs": [],
   "source": [
    "# Obtener las categorías originales\n",
    "categories = label_encoder.classes_\n",
    "\n",
    "# Crear un DataFrame para mostrar el mapeo\n",
    "mapping_df = pd.DataFrame({\n",
    "    'Categoría': categories,\n",
    "    'Código': range(len(categories))\n",
    "})\n",
    "\n",
    "print(mapping_df)\n"
   ]
  },
  {
   "cell_type": "code",
   "execution_count": null,
   "id": "28db1063",
   "metadata": {},
   "outputs": [],
   "source": [
    "def definir_tipo_empleo(x):\n",
    "    if x['clase_trabajo'] == 'Federal-gov' or x['clase_trabajo']== 'Local-gov' or x['clase_trabajo']=='State-gov': return 'govt'\n",
    "    elif x['clase_trabajo'] == 'Private':return 'private'\n",
    "    elif x['clase_trabajo'] == 'Self-emp-inc' or x['clase_trabajo'] == 'Self-emp-not-inc': return 'self_employed'\n",
    "    else: return 'without_pay'\n",
    " \n",
    "df['clase_trabajo'] = df['clase_trabajo'].str.strip()  \n",
    "df['tipo_empleo']=df.apply(definir_tipo_empleo, axis=1)\n",
    "\n",
    "df.head(10)"
   ]
  },
  {
   "cell_type": "code",
   "execution_count": null,
   "id": "f4b68450",
   "metadata": {},
   "outputs": [],
   "source": [
    "label_encoder = LabelEncoder()\n",
    "df['tipo_empleo'] = label_encoder.fit_transform(df['tipo_empleo'])\n",
    "df.head(10)"
   ]
  },
  {
   "cell_type": "code",
   "execution_count": null,
   "id": "eb554a57",
   "metadata": {},
   "outputs": [],
   "source": [
    "# Obtener las categorías originales\n",
    "categories = label_encoder.classes_\n",
    "\n",
    "# Crear un DataFrame para mostrar el mapeo\n",
    "mapping_df = pd.DataFrame({\n",
    "    'Categoría': categories,\n",
    "    'Código': range(len(categories))\n",
    "})\n",
    "\n",
    "print(mapping_df)"
   ]
  },
  {
   "cell_type": "code",
   "execution_count": null,
   "id": "92b1e6eb",
   "metadata": {},
   "outputs": [],
   "source": [
    "df_new = df.drop(columns=['clase_trabajo', 'educacion', 'ocupacion'])\n",
    "df_new.head()"
   ]
  },
  {
   "cell_type": "code",
   "execution_count": null,
   "id": "fc09d75e",
   "metadata": {},
   "outputs": [],
   "source": [
    "df_new = df_new['edad', 'fnlwgt', 'educacion_num', 'estado_civil', 'relacion','raza', 'genero', 'ganancia-capital', 'perdida-capital',\n",
    "                'horas_semana', 'pais', 'tipo_empleo', 'salario']\n",
    "df_new.head()"
   ]
  }
 ],
 "metadata": {
  "kernelspec": {
   "display_name": "Python 3 (ipykernel)",
   "language": "python",
   "name": "python3"
  },
  "language_info": {
   "codemirror_mode": {
    "name": "ipython",
    "version": 3
   },
   "file_extension": ".py",
   "mimetype": "text/x-python",
   "name": "python",
   "nbconvert_exporter": "python",
   "pygments_lexer": "ipython3",
   "version": "3.11.7"
  }
 },
 "nbformat": 4,
 "nbformat_minor": 5
}
